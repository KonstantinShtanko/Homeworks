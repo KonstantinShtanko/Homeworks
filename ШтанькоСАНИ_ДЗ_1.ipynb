{
 "cells": [
  {
   "cell_type": "markdown",
   "metadata": {},
   "source": [
    "# Домашнее задание 1"
   ]
  },
  {
   "cell_type": "markdown",
   "metadata": {},
   "source": [
    "### Выполнил Штанько Константин, группа 1, вариант 26"
   ]
  },
  {
   "cell_type": "markdown",
   "metadata": {},
   "source": [
    "Для начала нам необходимо получить таблицу сопряженности по **возрасту** (меньше и больше 35 лет) и **удовлетворенности соцпакетом**:"
   ]
  },
  {
   "cell_type": "code",
   "execution_count": 40,
   "metadata": {},
   "outputs": [],
   "source": [
    "import pandas as pd\n",
    "import numpy as np\n",
    "from scipy.stats import chi2\n",
    "\n",
    "df = pd.read_excel('data1.xlsx')\n",
    "df = df[(df['X2'].isin([1, 2])) & (df['X13'].isin([1, 2]))]\n",
    "cont_table = pd.crosstab(\n",
    "    df['X2'],\n",
    "    df['X13'],\n",
    "    margins = True\n",
    ")\n",
    "\n",
    "cont_table.index = ['Моложе 35', 'Старше 35', 'Сумма']\n",
    "cont_table.columns = ['Удовлетворен', 'Неудовлетворен', 'Сумма']"
   ]
  },
  {
   "cell_type": "markdown",
   "metadata": {},
   "source": [
    "Посмотрим на таблицу сопряженности **фактических частот**:"
   ]
  },
  {
   "cell_type": "code",
   "execution_count": 57,
   "metadata": {},
   "outputs": [
    {
     "data": {
      "text/html": [
       "<div>\n",
       "<style scoped>\n",
       "    .dataframe tbody tr th:only-of-type {\n",
       "        vertical-align: middle;\n",
       "    }\n",
       "\n",
       "    .dataframe tbody tr th {\n",
       "        vertical-align: top;\n",
       "    }\n",
       "\n",
       "    .dataframe thead th {\n",
       "        text-align: right;\n",
       "    }\n",
       "</style>\n",
       "<table border=\"1\" class=\"dataframe\">\n",
       "  <thead>\n",
       "    <tr style=\"text-align: right;\">\n",
       "      <th></th>\n",
       "      <th>Удовлетворен</th>\n",
       "      <th>Неудовлетворен</th>\n",
       "      <th>Сумма</th>\n",
       "    </tr>\n",
       "  </thead>\n",
       "  <tbody>\n",
       "    <tr>\n",
       "      <th>Моложе 35</th>\n",
       "      <td>29</td>\n",
       "      <td>13</td>\n",
       "      <td>42</td>\n",
       "    </tr>\n",
       "    <tr>\n",
       "      <th>Старше 35</th>\n",
       "      <td>52</td>\n",
       "      <td>6</td>\n",
       "      <td>58</td>\n",
       "    </tr>\n",
       "    <tr>\n",
       "      <th>Сумма</th>\n",
       "      <td>81</td>\n",
       "      <td>19</td>\n",
       "      <td>100</td>\n",
       "    </tr>\n",
       "  </tbody>\n",
       "</table>\n",
       "</div>"
      ],
      "text/plain": [
       "           Удовлетворен  Неудовлетворен  Сумма\n",
       "Моложе 35            29              13     42\n",
       "Старше 35            52               6     58\n",
       "Сумма                81              19    100"
      ]
     },
     "execution_count": 57,
     "metadata": {},
     "output_type": "execute_result"
    }
   ],
   "source": [
    "cont_table"
   ]
  },
  {
   "cell_type": "markdown",
   "metadata": {},
   "source": [
    "#### **Пункт а):**\n",
    "Построим таблицу сопряженности `теоретических частот`:"
   ]
  },
  {
   "cell_type": "code",
   "execution_count": 72,
   "metadata": {},
   "outputs": [
    {
     "data": {
      "text/html": [
       "<div>\n",
       "<style scoped>\n",
       "    .dataframe tbody tr th:only-of-type {\n",
       "        vertical-align: middle;\n",
       "    }\n",
       "\n",
       "    .dataframe tbody tr th {\n",
       "        vertical-align: top;\n",
       "    }\n",
       "\n",
       "    .dataframe thead th {\n",
       "        text-align: right;\n",
       "    }\n",
       "</style>\n",
       "<table border=\"1\" class=\"dataframe\">\n",
       "  <thead>\n",
       "    <tr style=\"text-align: right;\">\n",
       "      <th></th>\n",
       "      <th>Удовлетворен</th>\n",
       "      <th>Неудовлетворен</th>\n",
       "      <th>Сумма</th>\n",
       "    </tr>\n",
       "  </thead>\n",
       "  <tbody>\n",
       "    <tr>\n",
       "      <th>Моложе 35</th>\n",
       "      <td>34.02</td>\n",
       "      <td>7.98</td>\n",
       "      <td>42.0</td>\n",
       "    </tr>\n",
       "    <tr>\n",
       "      <th>Старше 35</th>\n",
       "      <td>46.98</td>\n",
       "      <td>11.02</td>\n",
       "      <td>58.0</td>\n",
       "    </tr>\n",
       "    <tr>\n",
       "      <th>Сумма</th>\n",
       "      <td>81.00</td>\n",
       "      <td>19.00</td>\n",
       "      <td>100.0</td>\n",
       "    </tr>\n",
       "  </tbody>\n",
       "</table>\n",
       "</div>"
      ],
      "text/plain": [
       "           Удовлетворен  Неудовлетворен  Сумма\n",
       "Моложе 35         34.02            7.98   42.0\n",
       "Старше 35         46.98           11.02   58.0\n",
       "Сумма             81.00           19.00  100.0"
      ]
     },
     "execution_count": 72,
     "metadata": {},
     "output_type": "execute_result"
    }
   ],
   "source": [
    "from scipy.stats import chi2_contingency\n",
    "\n",
    "chi2, p, dof, expected = chi2_contingency(cont_table)\n",
    "dof = 1\n",
    "\n",
    "expected_table = pd.DataFrame(\n",
    "    expected,\n",
    "    index=cont_table.index,\n",
    "    columns=cont_table.columns\n",
    ")\n",
    "\n",
    "\n",
    "expected_table"
   ]
  },
  {
   "cell_type": "markdown",
   "metadata": {},
   "source": [
    "#### **Пункт б):**\n",
    "Получим результаты теста независимости по `информационному критерию`:"
   ]
  },
  {
   "cell_type": "code",
   "execution_count": 67,
   "metadata": {},
   "outputs": [
    {
     "name": "stdout",
     "output_type": "stream",
     "text": [
      "Информационный критерий: 6.691\n",
      "Критическое значение: 11.143\n"
     ]
    }
   ],
   "source": [
    "from scipy.stats import chi2\n",
    "\n",
    "def g(obs, exp):\n",
    "    obs = obs.values\n",
    "    exp = exp.values\n",
    "    G = 2 * np.sum(obs * np.log(obs / exp))\n",
    "    v = (obs.shape[0] - 1) * (obs.shape[1] - 1)\n",
    "    gamma = 0.975\n",
    "    chi2_crit = chi2.ppf(gamma, v)\n",
    "    return G, chi2_crit\n",
    "\n",
    "\n",
    "G, critical = g(cont_table, expected_table)\n",
    "\n",
    "print(f\"Информационный критерий: {G:.3f}\")\n",
    "print(f\"Критическое значение: {critical:.3f}\")"
   ]
  },
  {
   "cell_type": "markdown",
   "metadata": {},
   "source": [
    "Так как критическое значение меньше наблюдаемого значения критерия, следовательно, гипотеза о независимости **отвергается** при уровне ошибки 0.025, следовательно, удовлетворенность соцпакетом и возраст связаны."
   ]
  },
  {
   "cell_type": "markdown",
   "metadata": {},
   "source": [
    "#### **Пункт в):**\n",
    "Получим результаты теста независимости по `точному критерию Фишера`:"
   ]
  },
  {
   "cell_type": "code",
   "execution_count": 66,
   "metadata": {},
   "outputs": [
    {
     "name": "stdout",
     "output_type": "stream",
     "text": [
      "Отношение шансов: 0.257\n",
      "p-value: 0.018\n"
     ]
    }
   ],
   "source": [
    "from scipy.stats import fisher_exact\n",
    "ratio, pval = fisher_exact(cont_table.values[:-1, :-1])\n",
    "print(f'Отношение шансов: {float(ratio):.3f}')\n",
    "print(f'p-value: {float(pval):.3f}')"
   ]
  },
  {
   "cell_type": "markdown",
   "metadata": {},
   "source": [
    "Так как отношение шансов меньше 1, то можно судить об обратной связи, а значение p-value (0.018) свидетельствует о том, что по критерию Фишера гипотеза о независимости **отвергается** с вероятностью ошибки 0.025, так как 0.025 > 0.018, следовательно, возраст и удовлетворенность соцпакетом связаны."
   ]
  },
  {
   "cell_type": "markdown",
   "metadata": {},
   "source": [
    "#### **Пункт г):**\n",
    "Посчитаем точечные оценки `коэффициента коллигации (Y)` и `Чупрова-Крамера (CK)`:"
   ]
  },
  {
   "cell_type": "code",
   "execution_count": 102,
   "metadata": {},
   "outputs": [
    {
     "name": "stdout",
     "output_type": "stream",
     "text": [
      "Коэффициент коллигации: -0.327\n",
      "Коэффициент Чупрова-Крамера: 0.259\n"
     ]
    }
   ],
   "source": [
    "chi2, p, dof, expected = chi2_contingency(cont_table.values)\n",
    "n_star_star = int(np.sum(cont_table.values[:-1, :-1]))\n",
    "CK = np.sqrt(chi2 / n_star_star)\n",
    "var = cont_table.values[:-1, :-1]\n",
    "Y = (np.sqrt(var[0][0] * var[1][1]) - np.sqrt(var[0][1] * var[1][0])) / (np.sqrt(var[0][0] * var[1][1]) + np.sqrt(var[0][1] * var[1][0]))\n",
    "print(f'Коэффициент коллигации: {Y:.3f}')\n",
    "print(f'Коэффициент Чупрова-Крамера: {CK:.3f}')"
   ]
  },
  {
   "cell_type": "markdown",
   "metadata": {},
   "source": [
    "Коэффициент Чупрова-Крамера показывает слабую связь между атрибутами, где 1 - это полная связь. Коэффициент коллигации - аналогично."
   ]
  }
 ],
 "metadata": {
  "kernelspec": {
   "display_name": "Python 3",
   "language": "python",
   "name": "python3"
  },
  "language_info": {
   "codemirror_mode": {
    "name": "ipython",
    "version": 3
   },
   "file_extension": ".py",
   "mimetype": "text/x-python",
   "name": "python",
   "nbconvert_exporter": "python",
   "pygments_lexer": "ipython3",
   "version": "3.13.1"
  }
 },
 "nbformat": 4,
 "nbformat_minor": 2
}
