{
 "cells": [
  {
   "cell_type": "markdown",
   "metadata": {},
   "source": [
    "# Домашнее задание 6"
   ]
  },
  {
   "cell_type": "markdown",
   "metadata": {},
   "source": [
    "### Выполнил Штанько Константин, группа 4"
   ]
  },
  {
   "cell_type": "markdown",
   "metadata": {},
   "source": [
    "Для начала нам необходимо получить таблицу c данными. Для начала обозначим `расшифровку` каждого столбца для понимания того, что мы анализируем. Давайте выведем ее на экран:"
   ]
  },
  {
   "cell_type": "code",
   "execution_count": 32,
   "metadata": {},
   "outputs": [
    {
     "name": "stdout",
     "output_type": "stream",
     "text": [
      "Таблица 1. Описание данных\n",
      "                      Переменная                                                                       Описание переменной\n",
      "                 Q_OF_LIFE_INDEX                                                                    РЕЙТИНГ КАЧЕСТВА ЖИЗНИ\n",
      "                  AVERAGE_INCOME                                     СРЕДНЕДУШЕВЫЕ ДЕНЕЖНЫЕ ДОХОДЫ НАСЕЛЕНИЯ В МЕС. (руб.)\n",
      "                             GRP                                                              ВРП НА ДУШУ НАСЕЛЕНИЯ (руб.)\n",
      "            POP_PER_HOSPITAL_BED                       ЧИСЛЕННОСТЬ НАСЕЛЕНИЯ НА ОДНУ БОЛЬНИЧНУЮ КОЙКУ НА КОНЕЦ ГОДА (чел.)\n",
      "                  POP_PER_DOCTOR                                                     ЧИСЛЕННОСТЬ НАСЕЛЕНИЯ НА ОДНОГО ВРАЧА\n",
      "                   SICKNESS_RATE                                                   ЗАБОЛЕВАЕМОСТЬ (на 1000 чел. населения)\n",
      "       ATMOSPHERIC_AIR_POLLUTION                             ВЫБРОСЫ ЗАГРЯЗНЯЮЩИХ ВЕЩЕСТВ В АТМОСФЕРНЫЙ ВОЗДУХ (тыс. тонн)\n",
      "DISCHARGE_OF_POLLUTED_WASTEWATER CБРОС ЗАГРЯЗНЕННЫХ СТОЧНЫХ ВОД В ПОВЕРХНОСТНЫЕ ВОДНЫЕ ОБЪЕКТЫ К ИСПОЛЬЗОВАНИЮ СВЕЖЕЙ ВОДЫ\n",
      "               UNEMPLOYMENT_RATE                                                                    УРОВЕНЬ БЕЗРАБОТИЦЫ, %\n",
      "                 EMPLOYMENT_RATE                                                            КОЭФФИЦИЕНТ НАЙМА РАБОЧЕЙ СИЛЫ\n",
      "                      LABOR_RATE                                                          КОЭФФИЦИЕНТ ВЫБЫТИЯ РАБОЧЕЙ СИЛЫ\n",
      "                 ENTERPRISES_NUM                                                                    КОЛИЧЕСТВО ПРЕДПРИЯТИЙ\n",
      "     ENTERPRISES_NUM_GROWTH_RATE                                                   ТЕМПЫ РОСТА ЧИСЛА ПРЕДПРИЯТИЙ ЗА 10 ЛЕТ\n",
      "                        FEM_WAGE                                                                                З/П ЖЕНЩИН\n",
      "                       MALE_WAGE                                                                                З/П МУЖЧИН\n",
      "                 WAGE_GENDER_GAP                                                                 ГЕНДЕРНЫЙ РАЗРЫВ В З/П, %\n",
      "          FEM_SHARE_IN_EMPLOYEES                                             ДОЛЯ ЖЕНЩИН В ОБЩЕЙ ЧИСЛЕННОСТИ РАБОТНИКОВ, %\n",
      "                   FEDERAL_OKRUG                                                      Принадлежность к федеральному округу\n"
     ]
    }
   ],
   "source": [
    "import pandas as pd\n",
    "import numpy as np\n",
    "import seaborn as sns\n",
    "import matplotlib.pyplot as plt\n",
    "from sklearn.preprocessing import StandardScaler\n",
    "from sklearn.cluster import KMeans\n",
    "from scipy.cluster.hierarchy import dendrogram, linkage\n",
    "from sklearn.cluster import AgglomerativeClustering\n",
    "from sklearn.metrics import silhouette_score\n",
    "from sklearn.discriminant_analysis import LinearDiscriminantAnalysis\n",
    "from sklearn.model_selection import train_test_split\n",
    "from sklearn.metrics import classification_report, confusion_matrix\n",
    "\n",
    "\n",
    "data = pd.read_excel('russian_regions.xlsx', sheet_name='Data')\n",
    "desc = pd.read_excel('russian_regions.xlsx', sheet_name='Description of data')\n",
    "print(\"Таблица 1. Описание данных\")\n",
    "print(desc.to_string(index=False))"
   ]
  },
  {
   "cell_type": "markdown",
   "metadata": {},
   "source": [
    "### **Задание 1:**\n",
    "\n",
    "Выберем из общей таблицы те столбцы, с которыми мы будем работать:"
   ]
  },
  {
   "cell_type": "code",
   "execution_count": 33,
   "metadata": {},
   "outputs": [
    {
     "data": {
      "text/html": [
       "<div>\n",
       "<style scoped>\n",
       "    .dataframe tbody tr th:only-of-type {\n",
       "        vertical-align: middle;\n",
       "    }\n",
       "\n",
       "    .dataframe tbody tr th {\n",
       "        vertical-align: top;\n",
       "    }\n",
       "\n",
       "    .dataframe thead th {\n",
       "        text-align: right;\n",
       "    }\n",
       "</style>\n",
       "<table border=\"1\" class=\"dataframe\">\n",
       "  <thead>\n",
       "    <tr style=\"text-align: right;\">\n",
       "      <th></th>\n",
       "      <th>Q_OF_LIFE_INDEX</th>\n",
       "      <th>AVERAGE_INCOME</th>\n",
       "      <th>GRP</th>\n",
       "      <th>POP_PER_HOSPITAL_BED</th>\n",
       "      <th>POP_PER_DOCTOR</th>\n",
       "      <th>SICKNESS_RATE</th>\n",
       "      <th>ATMOSPHERIC_AIR_POLLUTION</th>\n",
       "      <th>DISCHARGE_OF_POLLUTED_WASTEWATER</th>\n",
       "      <th>UNEMPLOYMENT_RATE</th>\n",
       "      <th>EMPLOYMENT_RATE</th>\n",
       "      <th>LABOR_RATE</th>\n",
       "      <th>ENTERPRISES_NUM</th>\n",
       "      <th>ENTERPRISES_NUM_GROWTH_RATE</th>\n",
       "      <th>FEM_WAGE</th>\n",
       "      <th>MALE_WAGE</th>\n",
       "      <th>WAGE_GENDER_GAP</th>\n",
       "      <th>FEM_SHARE_IN_EMPLOYEES</th>\n",
       "    </tr>\n",
       "  </thead>\n",
       "  <tbody>\n",
       "    <tr>\n",
       "      <th>0</th>\n",
       "      <td>64.149</td>\n",
       "      <td>30778</td>\n",
       "      <td>506420.9</td>\n",
       "      <td>138.5</td>\n",
       "      <td>247.1</td>\n",
       "      <td>709.9</td>\n",
       "      <td>175</td>\n",
       "      <td>0.299145</td>\n",
       "      <td>4.9</td>\n",
       "      <td>0.225714</td>\n",
       "      <td>0.240952</td>\n",
       "      <td>33992.24750</td>\n",
       "      <td>1.137930</td>\n",
       "      <td>31105.842284</td>\n",
       "      <td>39966.872605</td>\n",
       "      <td>77.829063</td>\n",
       "      <td>52.25989</td>\n",
       "    </tr>\n",
       "    <tr>\n",
       "      <th>1</th>\n",
       "      <td>49.343</td>\n",
       "      <td>26585</td>\n",
       "      <td>253100.4</td>\n",
       "      <td>132.0</td>\n",
       "      <td>246.9</td>\n",
       "      <td>767.4</td>\n",
       "      <td>40</td>\n",
       "      <td>0.600000</td>\n",
       "      <td>4.0</td>\n",
       "      <td>0.236190</td>\n",
       "      <td>0.248571</td>\n",
       "      <td>18703.37125</td>\n",
       "      <td>0.880532</td>\n",
       "      <td>25282.041814</td>\n",
       "      <td>33424.005888</td>\n",
       "      <td>75.640370</td>\n",
       "      <td>55.08514</td>\n",
       "    </tr>\n",
       "    <tr>\n",
       "      <th>2</th>\n",
       "      <td>50.967</td>\n",
       "      <td>23539</td>\n",
       "      <td>300273.6</td>\n",
       "      <td>119.9</td>\n",
       "      <td>286.4</td>\n",
       "      <td>919.2</td>\n",
       "      <td>42</td>\n",
       "      <td>0.811475</td>\n",
       "      <td>5.6</td>\n",
       "      <td>0.291905</td>\n",
       "      <td>0.300952</td>\n",
       "      <td>30494.11625</td>\n",
       "      <td>0.902246</td>\n",
       "      <td>30105.172162</td>\n",
       "      <td>39248.843377</td>\n",
       "      <td>76.703336</td>\n",
       "      <td>57.19788</td>\n",
       "    </tr>\n",
       "    <tr>\n",
       "      <th>3</th>\n",
       "      <td>59.327</td>\n",
       "      <td>30289</td>\n",
       "      <td>370610.4</td>\n",
       "      <td>121.9</td>\n",
       "      <td>191.4</td>\n",
       "      <td>526.6</td>\n",
       "      <td>104</td>\n",
       "      <td>0.319892</td>\n",
       "      <td>4.3</td>\n",
       "      <td>0.284762</td>\n",
       "      <td>0.289524</td>\n",
       "      <td>51627.62375</td>\n",
       "      <td>0.924481</td>\n",
       "      <td>31127.016566</td>\n",
       "      <td>41131.373061</td>\n",
       "      <td>75.677067</td>\n",
       "      <td>54.69041</td>\n",
       "    </tr>\n",
       "    <tr>\n",
       "      <th>4</th>\n",
       "      <td>47.754</td>\n",
       "      <td>24503</td>\n",
       "      <td>182398.1</td>\n",
       "      <td>122.0</td>\n",
       "      <td>226.0</td>\n",
       "      <td>902.5</td>\n",
       "      <td>22</td>\n",
       "      <td>0.487805</td>\n",
       "      <td>5.4</td>\n",
       "      <td>0.274286</td>\n",
       "      <td>0.296190</td>\n",
       "      <td>29030.24625</td>\n",
       "      <td>1.002322</td>\n",
       "      <td>24944.968012</td>\n",
       "      <td>31452.071954</td>\n",
       "      <td>79.311048</td>\n",
       "      <td>62.41403</td>\n",
       "    </tr>\n",
       "    <tr>\n",
       "      <th>...</th>\n",
       "      <td>...</td>\n",
       "      <td>...</td>\n",
       "      <td>...</td>\n",
       "      <td>...</td>\n",
       "      <td>...</td>\n",
       "      <td>...</td>\n",
       "      <td>...</td>\n",
       "      <td>...</td>\n",
       "      <td>...</td>\n",
       "      <td>...</td>\n",
       "      <td>...</td>\n",
       "      <td>...</td>\n",
       "      <td>...</td>\n",
       "      <td>...</td>\n",
       "      <td>...</td>\n",
       "      <td>...</td>\n",
       "      <td>...</td>\n",
       "    </tr>\n",
       "    <tr>\n",
       "      <th>76</th>\n",
       "      <td>39.650</td>\n",
       "      <td>30937</td>\n",
       "      <td>332533.2</td>\n",
       "      <td>104.5</td>\n",
       "      <td>181.7</td>\n",
       "      <td>852.9</td>\n",
       "      <td>113</td>\n",
       "      <td>0.943662</td>\n",
       "      <td>6.0</td>\n",
       "      <td>0.327619</td>\n",
       "      <td>0.358571</td>\n",
       "      <td>15085.49375</td>\n",
       "      <td>1.092044</td>\n",
       "      <td>42265.904622</td>\n",
       "      <td>66846.650664</td>\n",
       "      <td>63.228156</td>\n",
       "      <td>46.95234</td>\n",
       "    </tr>\n",
       "    <tr>\n",
       "      <th>77</th>\n",
       "      <td>44.517</td>\n",
       "      <td>59774</td>\n",
       "      <td>1088347.4</td>\n",
       "      <td>84.3</td>\n",
       "      <td>156.8</td>\n",
       "      <td>657.6</td>\n",
       "      <td>29</td>\n",
       "      <td>0.130952</td>\n",
       "      <td>5.6</td>\n",
       "      <td>0.369048</td>\n",
       "      <td>0.448571</td>\n",
       "      <td>4287.75000</td>\n",
       "      <td>0.591495</td>\n",
       "      <td>74167.720029</td>\n",
       "      <td>89531.921709</td>\n",
       "      <td>82.839415</td>\n",
       "      <td>45.96691</td>\n",
       "    </tr>\n",
       "    <tr>\n",
       "      <th>78</th>\n",
       "      <td>52.643</td>\n",
       "      <td>53783</td>\n",
       "      <td>1577910.3</td>\n",
       "      <td>87.9</td>\n",
       "      <td>172.2</td>\n",
       "      <td>755.0</td>\n",
       "      <td>85</td>\n",
       "      <td>0.165563</td>\n",
       "      <td>5.5</td>\n",
       "      <td>0.416190</td>\n",
       "      <td>0.411905</td>\n",
       "      <td>15407.99250</td>\n",
       "      <td>0.943944</td>\n",
       "      <td>71632.502461</td>\n",
       "      <td>105064.551075</td>\n",
       "      <td>68.179516</td>\n",
       "      <td>48.24797</td>\n",
       "    </tr>\n",
       "    <tr>\n",
       "      <th>79</th>\n",
       "      <td>28.940</td>\n",
       "      <td>24696</td>\n",
       "      <td>322720.4</td>\n",
       "      <td>82.6</td>\n",
       "      <td>276.2</td>\n",
       "      <td>657.2</td>\n",
       "      <td>19</td>\n",
       "      <td>0.733333</td>\n",
       "      <td>6.3</td>\n",
       "      <td>0.276667</td>\n",
       "      <td>0.321429</td>\n",
       "      <td>2804.37500</td>\n",
       "      <td>0.892545</td>\n",
       "      <td>32697.059710</td>\n",
       "      <td>46301.964954</td>\n",
       "      <td>70.617002</td>\n",
       "      <td>56.09032</td>\n",
       "    </tr>\n",
       "    <tr>\n",
       "      <th>80</th>\n",
       "      <td>42.933</td>\n",
       "      <td>78812</td>\n",
       "      <td>1386085.3</td>\n",
       "      <td>76.2</td>\n",
       "      <td>132.4</td>\n",
       "      <td>1278.3</td>\n",
       "      <td>23</td>\n",
       "      <td>0.115385</td>\n",
       "      <td>4.4</td>\n",
       "      <td>0.302381</td>\n",
       "      <td>0.351905</td>\n",
       "      <td>1098.50000</td>\n",
       "      <td>0.742230</td>\n",
       "      <td>87822.617122</td>\n",
       "      <td>112419.904787</td>\n",
       "      <td>78.120167</td>\n",
       "      <td>39.55575</td>\n",
       "    </tr>\n",
       "  </tbody>\n",
       "</table>\n",
       "<p>81 rows × 17 columns</p>\n",
       "</div>"
      ],
      "text/plain": [
       "    Q_OF_LIFE_INDEX  AVERAGE_INCOME        GRP  POP_PER_HOSPITAL_BED  \\\n",
       "0            64.149           30778   506420.9                 138.5   \n",
       "1            49.343           26585   253100.4                 132.0   \n",
       "2            50.967           23539   300273.6                 119.9   \n",
       "3            59.327           30289   370610.4                 121.9   \n",
       "4            47.754           24503   182398.1                 122.0   \n",
       "..              ...             ...        ...                   ...   \n",
       "76           39.650           30937   332533.2                 104.5   \n",
       "77           44.517           59774  1088347.4                  84.3   \n",
       "78           52.643           53783  1577910.3                  87.9   \n",
       "79           28.940           24696   322720.4                  82.6   \n",
       "80           42.933           78812  1386085.3                  76.2   \n",
       "\n",
       "    POP_PER_DOCTOR  SICKNESS_RATE  ATMOSPHERIC_AIR_POLLUTION  \\\n",
       "0            247.1          709.9                        175   \n",
       "1            246.9          767.4                         40   \n",
       "2            286.4          919.2                         42   \n",
       "3            191.4          526.6                        104   \n",
       "4            226.0          902.5                         22   \n",
       "..             ...            ...                        ...   \n",
       "76           181.7          852.9                        113   \n",
       "77           156.8          657.6                         29   \n",
       "78           172.2          755.0                         85   \n",
       "79           276.2          657.2                         19   \n",
       "80           132.4         1278.3                         23   \n",
       "\n",
       "    DISCHARGE_OF_POLLUTED_WASTEWATER  UNEMPLOYMENT_RATE  EMPLOYMENT_RATE  \\\n",
       "0                           0.299145                4.9         0.225714   \n",
       "1                           0.600000                4.0         0.236190   \n",
       "2                           0.811475                5.6         0.291905   \n",
       "3                           0.319892                4.3         0.284762   \n",
       "4                           0.487805                5.4         0.274286   \n",
       "..                               ...                ...              ...   \n",
       "76                          0.943662                6.0         0.327619   \n",
       "77                          0.130952                5.6         0.369048   \n",
       "78                          0.165563                5.5         0.416190   \n",
       "79                          0.733333                6.3         0.276667   \n",
       "80                          0.115385                4.4         0.302381   \n",
       "\n",
       "    LABOR_RATE  ENTERPRISES_NUM  ENTERPRISES_NUM_GROWTH_RATE      FEM_WAGE  \\\n",
       "0     0.240952      33992.24750                     1.137930  31105.842284   \n",
       "1     0.248571      18703.37125                     0.880532  25282.041814   \n",
       "2     0.300952      30494.11625                     0.902246  30105.172162   \n",
       "3     0.289524      51627.62375                     0.924481  31127.016566   \n",
       "4     0.296190      29030.24625                     1.002322  24944.968012   \n",
       "..         ...              ...                          ...           ...   \n",
       "76    0.358571      15085.49375                     1.092044  42265.904622   \n",
       "77    0.448571       4287.75000                     0.591495  74167.720029   \n",
       "78    0.411905      15407.99250                     0.943944  71632.502461   \n",
       "79    0.321429       2804.37500                     0.892545  32697.059710   \n",
       "80    0.351905       1098.50000                     0.742230  87822.617122   \n",
       "\n",
       "        MALE_WAGE  WAGE_GENDER_GAP  FEM_SHARE_IN_EMPLOYEES  \n",
       "0    39966.872605        77.829063                52.25989  \n",
       "1    33424.005888        75.640370                55.08514  \n",
       "2    39248.843377        76.703336                57.19788  \n",
       "3    41131.373061        75.677067                54.69041  \n",
       "4    31452.071954        79.311048                62.41403  \n",
       "..            ...              ...                     ...  \n",
       "76   66846.650664        63.228156                46.95234  \n",
       "77   89531.921709        82.839415                45.96691  \n",
       "78  105064.551075        68.179516                48.24797  \n",
       "79   46301.964954        70.617002                56.09032  \n",
       "80  112419.904787        78.120167                39.55575  \n",
       "\n",
       "[81 rows x 17 columns]"
      ]
     },
     "execution_count": 33,
     "metadata": {},
     "output_type": "execute_result"
    }
   ],
   "source": [
    "df = data.select_dtypes(include=['number'])\n",
    "df"
   ]
  },
  {
   "cell_type": "markdown",
   "metadata": {},
   "source": [
    "`Cтандартизируем` данные:"
   ]
  },
  {
   "cell_type": "code",
   "execution_count": 34,
   "metadata": {},
   "outputs": [],
   "source": [
    "scaler = StandardScaler()\n",
    "df1 = scaler.fit_transform(df)"
   ]
  },
  {
   "cell_type": "markdown",
   "metadata": {},
   "source": [
    "Построим `K-Means` с гиперпараметром `K=3` и получим силуэтный коэффициент для оценки кластеризации:"
   ]
  },
  {
   "cell_type": "code",
   "execution_count": 35,
   "metadata": {},
   "outputs": [
    {
     "name": "stdout",
     "output_type": "stream",
     "text": [
      "Силуэтный коэффициент: 0.37\n"
     ]
    }
   ],
   "source": [
    "from sklearn.metrics import silhouette_score\n",
    "\n",
    "\n",
    "df2 = pd.DataFrame(df1, columns=df.columns, index=df.index)\n",
    "cl = KMeans(n_clusters=3, n_init=10, random_state=1)\n",
    "clusters = cl.fit_predict(df2)\n",
    "df2['Cluster'] = clusters + 1\n",
    "cluster_means = df2.groupby('Cluster').mean().reset_index()\n",
    "silhouette2 = np.round(silhouette_score(df2, df2['Cluster']), 2)\n",
    "print(f'Силуэтный коэффициент: {float(silhouette2)}')\n",
    "\n",
    "\n",
    "df2['Cluster'].value_counts()\n",
    "df2.to_excel('filik.xlsx')"
   ]
  },
  {
   "cell_type": "markdown",
   "metadata": {},
   "source": [
    "Выделим столбец кластеров в отдельную переменную, после этого `разделим выборку на тестовую и обучающуюся` **(70/30)** и обучим модель LDA из `2 компонент` для того, чтобы разделить данные на 3 кластера:"
   ]
  },
  {
   "cell_type": "code",
   "execution_count": 45,
   "metadata": {},
   "outputs": [],
   "source": [
    "X = df2.drop('Cluster', axis=1)\n",
    "y = df2['Cluster']\n",
    "\n",
    "X_train, X_test, y_train, y_test = train_test_split(X, y, test_size=0.3, random_state=25)\n",
    "\n",
    "lda = LinearDiscriminantAnalysis(n_components=2)\n",
    "model = lda.fit_transform(X_train, y_train)\n",
    "X_test_lda = lda.transform(X_test)"
   ]
  },
  {
   "cell_type": "markdown",
   "metadata": {},
   "source": [
    "Модель обучена на тренировочной выборке. Теперь `построим графики по осям LD1 и LD2` и посмотрим, насколько кластеры линейно разделимы:"
   ]
  },
  {
   "cell_type": "code",
   "execution_count": 44,
   "metadata": {},
   "outputs": [
    {
     "data": {
      "image/png": "[encoded data removed]",
      "text/plain": [
       "<Figure size 1200x800 with 1 Axes>"
      ]
     },
     "metadata": {},
     "output_type": "display_data"
    }
   ],
   "source": [
    "plt.figure(figsize=(12, 8))\n",
    "sns.scatterplot(\n",
    "    x=model[:, 0], \n",
    "    y=model[:, 1], \n",
    "    hue=y_train,\n",
    "    palette='viridis',\n",
    "    s=100,\n",
    "    alpha=0.8,\n",
    "    edgecolor='k'\n",
    ")\n",
    "plt.title('LDA проекция (Тренировочные данные)')\n",
    "plt.xlabel('LD1')\n",
    "plt.ylabel('LD2')\n",
    "plt.legend(title='Cluster')\n",
    "plt.show()\n"
   ]
  },
  {
   "cell_type": "markdown",
   "metadata": {},
   "source": [
    "Заметим, что LD1 хорошо `отделяет 2-й кластер от 1 и 3`, а `1-й кластер хорошо отделяется от остальных по LD2`."
   ]
  },
  {
   "cell_type": "markdown",
   "metadata": {},
   "source": [
    "Теперь проделаем то же самое на `тестовой выборке`:"
   ]
  },
  {
   "cell_type": "code",
   "execution_count": 48,
   "metadata": {},
   "outputs": [
    {
     "data": {
      "image/png": "[encoded data removed]",
      "text/plain": [
       "<Figure size 1200x800 with 1 Axes>"
      ]
     },
     "metadata": {},
     "output_type": "display_data"
    }
   ],
   "source": [
    "plt.figure(figsize=(12, 8))\n",
    "sns.scatterplot(\n",
    "    x=X_test_lda[:, 0], \n",
    "    y=X_test_lda[:, 1], \n",
    "    hue=y_test,\n",
    "    palette='viridis',\n",
    "    s=100,\n",
    "    alpha=0.8,\n",
    "    edgecolor='k',\n",
    ")\n",
    "plt.title('LDA проекция (Тестовые данные)')\n",
    "plt.xlabel('LD1')\n",
    "plt.ylabel('LD2')\n",
    "plt.legend(title='Cluster')\n",
    "\n",
    "plt.tight_layout()\n",
    "plt.show()"
   ]
  },
  {
   "cell_type": "markdown",
   "metadata": {},
   "source": [
    "Видно, что модель смогла найти зависимости, которые причисляют наблюдения к определенным кластерам, однако **наблюдаются ошибки**. Можно заметить, что `наблюдения, которые отнеслись к 1 кластеру, не разделяются с помощью LD1` (LD1 отделяет 2 кластер от 3), хотя на тренировочной выборке можно было заметить разделимость. Однако по оси LD2 все еще `можно наблюдать отделимость кластеров 1 и 2-3`."
   ]
  },
  {
   "cell_type": "markdown",
   "metadata": {},
   "source": [
    "Теперь с помощью коэффициентов LDA `выделим наиболее важные признаки` **(данные стандартизованы)**:"
   ]
  },
  {
   "cell_type": "code",
   "execution_count": 52,
   "metadata": {},
   "outputs": [
    {
     "data": {
      "text/html": [
       "<div>\n",
       "<style scoped>\n",
       "    .dataframe tbody tr th:only-of-type {\n",
       "        vertical-align: middle;\n",
       "    }\n",
       "\n",
       "    .dataframe tbody tr th {\n",
       "        vertical-align: top;\n",
       "    }\n",
       "\n",
       "    .dataframe thead th {\n",
       "        text-align: right;\n",
       "    }\n",
       "</style>\n",
       "<table border=\"1\" class=\"dataframe\">\n",
       "  <thead>\n",
       "    <tr style=\"text-align: right;\">\n",
       "      <th></th>\n",
       "      <th>LD1</th>\n",
       "      <th>LD2</th>\n",
       "    </tr>\n",
       "  </thead>\n",
       "  <tbody>\n",
       "    <tr>\n",
       "      <th>Q_OF_LIFE_INDEX</th>\n",
       "      <td>0.094470</td>\n",
       "      <td>0.065142</td>\n",
       "    </tr>\n",
       "    <tr>\n",
       "      <th>AVERAGE_INCOME</th>\n",
       "      <td>0.214970</td>\n",
       "      <td>-0.166469</td>\n",
       "    </tr>\n",
       "    <tr>\n",
       "      <th>GRP</th>\n",
       "      <td>-2.801109</td>\n",
       "      <td>0.943336</td>\n",
       "    </tr>\n",
       "    <tr>\n",
       "      <th>POP_PER_HOSPITAL_BED</th>\n",
       "      <td>0.467691</td>\n",
       "      <td>-0.091847</td>\n",
       "    </tr>\n",
       "    <tr>\n",
       "      <th>POP_PER_DOCTOR</th>\n",
       "      <td>0.220091</td>\n",
       "      <td>-0.320408</td>\n",
       "    </tr>\n",
       "    <tr>\n",
       "      <th>SICKNESS_RATE</th>\n",
       "      <td>0.393161</td>\n",
       "      <td>0.256028</td>\n",
       "    </tr>\n",
       "    <tr>\n",
       "      <th>ATMOSPHERIC_AIR_POLLUTION</th>\n",
       "      <td>0.073690</td>\n",
       "      <td>-0.251517</td>\n",
       "    </tr>\n",
       "    <tr>\n",
       "      <th>DISCHARGE_OF_POLLUTED_WASTEWATER</th>\n",
       "      <td>-0.106702</td>\n",
       "      <td>0.128959</td>\n",
       "    </tr>\n",
       "    <tr>\n",
       "      <th>UNEMPLOYMENT_RATE</th>\n",
       "      <td>-1.144124</td>\n",
       "      <td>0.149357</td>\n",
       "    </tr>\n",
       "    <tr>\n",
       "      <th>EMPLOYMENT_RATE</th>\n",
       "      <td>-0.143004</td>\n",
       "      <td>-0.911728</td>\n",
       "    </tr>\n",
       "    <tr>\n",
       "      <th>LABOR_RATE</th>\n",
       "      <td>-0.319668</td>\n",
       "      <td>0.637865</td>\n",
       "    </tr>\n",
       "    <tr>\n",
       "      <th>ENTERPRISES_NUM</th>\n",
       "      <td>-0.177184</td>\n",
       "      <td>0.360481</td>\n",
       "    </tr>\n",
       "    <tr>\n",
       "      <th>ENTERPRISES_NUM_GROWTH_RATE</th>\n",
       "      <td>-1.157913</td>\n",
       "      <td>0.155244</td>\n",
       "    </tr>\n",
       "    <tr>\n",
       "      <th>FEM_WAGE</th>\n",
       "      <td>14.101761</td>\n",
       "      <td>4.332095</td>\n",
       "    </tr>\n",
       "    <tr>\n",
       "      <th>MALE_WAGE</th>\n",
       "      <td>-13.228999</td>\n",
       "      <td>-2.577225</td>\n",
       "    </tr>\n",
       "    <tr>\n",
       "      <th>WAGE_GENDER_GAP</th>\n",
       "      <td>-5.087606</td>\n",
       "      <td>-0.133312</td>\n",
       "    </tr>\n",
       "    <tr>\n",
       "      <th>FEM_SHARE_IN_EMPLOYEES</th>\n",
       "      <td>-0.683420</td>\n",
       "      <td>0.642312</td>\n",
       "    </tr>\n",
       "  </tbody>\n",
       "</table>\n",
       "</div>"
      ],
      "text/plain": [
       "                                        LD1       LD2\n",
       "Q_OF_LIFE_INDEX                    0.094470  0.065142\n",
       "AVERAGE_INCOME                     0.214970 -0.166469\n",
       "GRP                               -2.801109  0.943336\n",
       "POP_PER_HOSPITAL_BED               0.467691 -0.091847\n",
       "POP_PER_DOCTOR                     0.220091 -0.320408\n",
       "SICKNESS_RATE                      0.393161  0.256028\n",
       "ATMOSPHERIC_AIR_POLLUTION          0.073690 -0.251517\n",
       "DISCHARGE_OF_POLLUTED_WASTEWATER  -0.106702  0.128959\n",
       "UNEMPLOYMENT_RATE                 -1.144124  0.149357\n",
       "EMPLOYMENT_RATE                   -0.143004 -0.911728\n",
       "LABOR_RATE                        -0.319668  0.637865\n",
       "ENTERPRISES_NUM                   -0.177184  0.360481\n",
       "ENTERPRISES_NUM_GROWTH_RATE       -1.157913  0.155244\n",
       "FEM_WAGE                          14.101761  4.332095\n",
       "MALE_WAGE                        -13.228999 -2.577225\n",
       "WAGE_GENDER_GAP                   -5.087606 -0.133312\n",
       "FEM_SHARE_IN_EMPLOYEES            -0.683420  0.642312"
      ]
     },
     "execution_count": 52,
     "metadata": {},
     "output_type": "execute_result"
    }
   ],
   "source": [
    "lda_coef = pd.DataFrame(\n",
    "    lda.scalings_,\n",
    "    index=X.columns,\n",
    "    columns=[f'LD{i+1}' for i in range(lda.scalings_.shape[1])])\n",
    "lda_coef"
   ]
  },
  {
   "cell_type": "markdown",
   "metadata": {},
   "source": [
    "Можно заметить, что `LD1 выделяет зарплаты и уровень ВВП как одни из самых важных признаков для разделения`. \n",
    "Таким образом, чем больше какой-то из этих признаков, тем левее будет точка по LD1 (так как веса отрицательные в случае MALE_WAGE, GRP) или правее (FEM_WAGE). \n",
    "Для `LD2 же самыми важными признаки являются также зарплаты, уровень ВВП`. \n",
    "\n",
    "То есть, **LD2 корректирует результаты LD1 для того, чтобы создать разделимость на 3 кластера, чего не может сделать один линейный дискриминант**."
   ]
  },
  {
   "cell_type": "markdown",
   "metadata": {},
   "source": [
    "`Предскажем кластеры` для тестовой выборки и построим `матрицу ошибок` и проинтерпретируем ее:"
   ]
  },
  {
   "cell_type": "code",
   "execution_count": 56,
   "metadata": {},
   "outputs": [
    {
     "data": {
      "image/png": "[encoded data removed]",
      "text/plain": [
       "<Figure size 800x600 with 2 Axes>"
      ]
     },
     "metadata": {},
     "output_type": "display_data"
    }
   ],
   "source": [
    "y_pred = lda.predict(X_test)\n",
    "plt.figure(figsize=(8,6))\n",
    "sns.heatmap(\n",
    "    confusion_matrix(y_test, y_pred), \n",
    "    annot=True, \n",
    "    fmt='d',\n",
    "    cmap='Blues',\n",
    "    xticklabels=lda.classes_,\n",
    "    yticklabels=lda.classes_\n",
    ")\n",
    "plt.title('Матрица ошибок')\n",
    "plt.ylabel('Истинные классы')\n",
    "plt.xlabel('Предсказанные классы')\n",
    "plt.show()"
   ]
  },
  {
   "cell_type": "markdown",
   "metadata": {},
   "source": [
    "Так как кластер 3 самый многочисленный (выборка не стратифицирована по классам в силу небольшого количества наблюдений), то `LDA наиболее уверенно отделяет кластер 3 от всех остальных` - это можно заметить по матрице ошибок (на 3-м кластере наблюдается 0 ошибок). \n",
    "`Кластер 1 модель определяет плохо`, на ней она больше ошибается, чем выдает правдивые результаты (отношение неправильных к правильным: 3:2).\n",
    "Если же говорить про `кластер 2, то здесь модель определяет кластер верно в 80% случаев`.\n",
    "\n",
    "В целом, это неплохой результат для линейного анализа."
   ]
  },
  {
   "cell_type": "markdown",
   "metadata": {},
   "source": [
    "Построим на `долю объясненной дисперсии` линейными дискриминантами:"
   ]
  },
  {
   "cell_type": "code",
   "execution_count": 54,
   "metadata": {},
   "outputs": [
    {
     "name": "stdout",
     "output_type": "stream",
     "text": [
      "\n",
      "Объясненная дисперсия компонентами:\n",
      "LD1: 68.35%\n",
      "LD2: 31.65%\n"
     ]
    }
   ],
   "source": [
    "explained_variance = lda.explained_variance_ratio_\n",
    "print(f\"\\nОбъясненная дисперсия компонентами:\")\n",
    "print(f\"LD1: {explained_variance[0]:.2%}\")\n",
    "print(f\"LD2: {explained_variance[1]:.2%}\")"
   ]
  },
  {
   "cell_type": "markdown",
   "metadata": {},
   "source": [
    "То есть, `LD1 содержит основную информацию, как делить на кластеры, а LD2 дополняет модель, корректирует.`"
   ]
  }
 ],
 "metadata": {
  "kernelspec": {
   "display_name": "Python 3",
   "language": "python",
   "name": "python3"
  },
  "language_info": {
   "codemirror_mode": {
    "name": "ipython",
    "version": 3
   },
   "file_extension": ".py",
   "mimetype": "text/x-python",
   "name": "python",
   "nbconvert_exporter": "python",
   "pygments_lexer": "ipython3",
   "version": "3.13.1"
  }
 },
 "nbformat": 4,
 "nbformat_minor": 2
}
