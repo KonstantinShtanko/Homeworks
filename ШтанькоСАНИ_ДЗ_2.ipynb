{
 "cells": [
  {
   "cell_type": "markdown",
   "metadata": {},
   "source": [
    "# Домашнее задание 2"
   ]
  },
  {
   "cell_type": "markdown",
   "metadata": {},
   "source": [
    "### Выполнил Штанько Константин, группа 1, вариант 26"
   ]
  },
  {
   "cell_type": "markdown",
   "metadata": {},
   "source": [
    "#### **Пункт а):**\n",
    "Для начала нам необходимо получить `таблицу сопряженности наблюдаемых частот безработных` *(дес. тыс. чел.)* по **времени поиска работы** и **возрасту**:"
   ]
  },
  {
   "cell_type": "code",
   "execution_count": 37,
   "metadata": {},
   "outputs": [
    {
     "name": "stdout",
     "output_type": "stream",
     "text": [
      "Таблица сопряженности наблюдаемых частот числа безработных по времени поиска работы (строки) и возрасту (столбцы):\n"
     ]
    },
    {
     "data": {
      "text/html": [
       "<div>\n",
       "<style scoped>\n",
       "    .dataframe tbody tr th:only-of-type {\n",
       "        vertical-align: middle;\n",
       "    }\n",
       "\n",
       "    .dataframe tbody tr th {\n",
       "        vertical-align: top;\n",
       "    }\n",
       "\n",
       "    .dataframe thead th {\n",
       "        text-align: right;\n",
       "    }\n",
       "</style>\n",
       "<table border=\"1\" class=\"dataframe\">\n",
       "  <thead>\n",
       "    <tr style=\"text-align: right;\">\n",
       "      <th>Возрастные группы</th>\n",
       "      <th>15-24</th>\n",
       "      <th>25-34</th>\n",
       "      <th>35-44</th>\n",
       "      <th>45-54</th>\n",
       "      <th>55 и старше</th>\n",
       "    </tr>\n",
       "    <tr>\n",
       "      <th>Период времени</th>\n",
       "      <th></th>\n",
       "      <th></th>\n",
       "      <th></th>\n",
       "      <th></th>\n",
       "      <th></th>\n",
       "    </tr>\n",
       "  </thead>\n",
       "  <tbody>\n",
       "    <tr>\n",
       "      <th>менее 1 месяца</th>\n",
       "      <td>26</td>\n",
       "      <td>25</td>\n",
       "      <td>14</td>\n",
       "      <td>6</td>\n",
       "      <td>5</td>\n",
       "    </tr>\n",
       "    <tr>\n",
       "      <th>от 1 до 6 месяцев</th>\n",
       "      <td>58</td>\n",
       "      <td>44</td>\n",
       "      <td>28</td>\n",
       "      <td>22</td>\n",
       "      <td>12</td>\n",
       "    </tr>\n",
       "    <tr>\n",
       "      <th>6 и более месяцев</th>\n",
       "      <td>27</td>\n",
       "      <td>53</td>\n",
       "      <td>40</td>\n",
       "      <td>36</td>\n",
       "      <td>23</td>\n",
       "    </tr>\n",
       "  </tbody>\n",
       "</table>\n",
       "</div>"
      ],
      "text/plain": [
       "Возрастные группы  15-24  25-34  35-44  45-54  55 и старше\n",
       "Период времени                                            \n",
       "менее 1 месяца        26     25     14      6            5\n",
       "от 1 до 6 месяцев     58     44     28     22           12\n",
       "6 и более месяцев     27     53     40     36           23"
      ]
     },
     "execution_count": 37,
     "metadata": {},
     "output_type": "execute_result"
    }
   ],
   "source": [
    "import pandas as pd\n",
    "import numpy as np\n",
    "from scipy.stats import chi2_contingency\n",
    "import rpy2.robjects as ro\n",
    "from rpy2.robjects.packages import importr\n",
    "from rpy2.robjects import FloatVector\n",
    "import matplotlib.pyplot as plt\n",
    "import statsmodels.graphics.mosaicplot as mosaic\n",
    "\n",
    "\n",
    "df = pd.read_excel('sani2.xlsx', index_col = 0, header = 0)\n",
    "df.columns.name = 'Возрастные группы'\n",
    "df.index.name = 'Период времени'\n",
    "print('Таблица сопряженности наблюдаемых частот числа безработных по времени поиска работы (строки) и возрасту (столбцы):')\n",
    "df"
   ]
  },
  {
   "cell_type": "markdown",
   "metadata": {},
   "source": [
    "Посмотрим на таблицу сопряженности `теоретических частот`:"
   ]
  },
  {
   "cell_type": "code",
   "execution_count": 38,
   "metadata": {},
   "outputs": [
    {
     "name": "stdout",
     "output_type": "stream",
     "text": [
      "Таблица сопряженности теоретических частот:\n"
     ]
    },
    {
     "data": {
      "text/html": [
       "<div>\n",
       "<style scoped>\n",
       "    .dataframe tbody tr th:only-of-type {\n",
       "        vertical-align: middle;\n",
       "    }\n",
       "\n",
       "    .dataframe tbody tr th {\n",
       "        vertical-align: top;\n",
       "    }\n",
       "\n",
       "    .dataframe thead th {\n",
       "        text-align: right;\n",
       "    }\n",
       "</style>\n",
       "<table border=\"1\" class=\"dataframe\">\n",
       "  <thead>\n",
       "    <tr style=\"text-align: right;\">\n",
       "      <th>Возрастные группы</th>\n",
       "      <th>15-24</th>\n",
       "      <th>25-34</th>\n",
       "      <th>35-44</th>\n",
       "      <th>45-54</th>\n",
       "      <th>55 и старше</th>\n",
       "    </tr>\n",
       "    <tr>\n",
       "      <th>Период времени</th>\n",
       "      <th></th>\n",
       "      <th></th>\n",
       "      <th></th>\n",
       "      <th></th>\n",
       "      <th></th>\n",
       "    </tr>\n",
       "  </thead>\n",
       "  <tbody>\n",
       "    <tr>\n",
       "      <th>менее 1 месяца</th>\n",
       "      <td>20.133652</td>\n",
       "      <td>22.128878</td>\n",
       "      <td>14.873508</td>\n",
       "      <td>11.608592</td>\n",
       "      <td>7.255370</td>\n",
       "    </tr>\n",
       "    <tr>\n",
       "      <th>от 1 до 6 месяцев</th>\n",
       "      <td>43.446301</td>\n",
       "      <td>47.751790</td>\n",
       "      <td>32.095465</td>\n",
       "      <td>25.050119</td>\n",
       "      <td>15.656325</td>\n",
       "    </tr>\n",
       "    <tr>\n",
       "      <th>6 и более месяцев</th>\n",
       "      <td>47.420048</td>\n",
       "      <td>52.119332</td>\n",
       "      <td>35.031026</td>\n",
       "      <td>27.341289</td>\n",
       "      <td>17.088305</td>\n",
       "    </tr>\n",
       "  </tbody>\n",
       "</table>\n",
       "</div>"
      ],
      "text/plain": [
       "Возрастные группы      15-24      25-34      35-44      45-54  55 и старше\n",
       "Период времени                                                            \n",
       "менее 1 месяца     20.133652  22.128878  14.873508  11.608592     7.255370\n",
       "от 1 до 6 месяцев  43.446301  47.751790  32.095465  25.050119    15.656325\n",
       "6 и более месяцев  47.420048  52.119332  35.031026  27.341289    17.088305"
      ]
     },
     "execution_count": 38,
     "metadata": {},
     "output_type": "execute_result"
    }
   ],
   "source": [
    "chi2, p, dof, expectancy = chi2_contingency(df)\n",
    "expected = pd.DataFrame(expectancy, index=df.index, columns=df.columns)\n",
    "print('Таблица сопряженности теоретических частот:')\n",
    "expected"
   ]
  },
  {
   "cell_type": "markdown",
   "metadata": {},
   "source": [
    "#### **Пункт б):**\n",
    "Проверим гипотезы независимости на основе `критерия согласия Пирсона` при уровне значимости **0.01**:"
   ]
  },
  {
   "cell_type": "code",
   "execution_count": 39,
   "metadata": {},
   "outputs": [
    {
     "name": "stdout",
     "output_type": "stream",
     "text": [
      "Полученное значение хи-квадрат наблюдаемого:\n",
      "26.76\n"
     ]
    }
   ],
   "source": [
    "print('Полученное значение Хи-квадрат наблюдаемого:')\n",
    "print(f'{chi2:.2f}')"
   ]
  },
  {
   "cell_type": "code",
   "execution_count": 40,
   "metadata": {},
   "outputs": [
    {
     "name": "stdout",
     "output_type": "stream",
     "text": [
      "Полученное значение p-value:\n",
      "0.0008\n",
      "Следовательно, гипотеза о независимости признаков отвергается с вероятностью\n",
      "ошибки 0.01, следовательно, возраст и период времени безработицы связаны\n"
     ]
    }
   ],
   "source": [
    "print('Полученное значение p-value:')\n",
    "print(f'{p:.4f}')\n",
    "if p < 0.01:\n",
    "    print('Следовательно, гипотеза о независимости признаков отвергается с вероятностью\\nошибки 0.01, следовательно, возраст и период времени безработицы связаны')\n",
    "else:\n",
    "    print('Гипотеза о независимости признаков не отвергается на уровне\\nзначимости 0.01, следовательно, возраст и период времени безработицы не связаны')"
   ]
  },
  {
   "cell_type": "markdown",
   "metadata": {},
   "source": [
    "Таким образом, гипотеза о независимости признаков отвергается с вероятностью ошибки **0.01**, что свидетельствует о `наличии зависимости` между возрастом и временем поиска работы."
   ]
  },
  {
   "cell_type": "markdown",
   "metadata": {},
   "source": [
    "#### **Пункт в):**\n",
    "Получим точечную и интервальную оценку `коэффициента Крамера` на основе **нецентрального Хи-квадрат распределения**:"
   ]
  },
  {
   "cell_type": "code",
   "execution_count": 41,
   "metadata": {},
   "outputs": [
    {
     "name": "stdout",
     "output_type": "stream",
     "text": [
      "Коэффициент Крамера составляет:\n"
     ]
    },
    {
     "data": {
      "text/plain": [
       "0.1787"
      ]
     },
     "execution_count": 41,
     "metadata": {},
     "output_type": "execute_result"
    }
   ],
   "source": [
    "from rpy2.robjects import IntVector\n",
    "\n",
    "vcd = importr('vcd')\n",
    "DescTools = importr('DescTools')\n",
    "\n",
    "r_data = IntVector(df.values.flatten().tolist())\n",
    "\n",
    "r_table = ro.r.matrix(\n",
    "    r_data,\n",
    "    nrow=df.shape[0],\n",
    "    ncol=df.shape[1],\n",
    "    byrow=True,\n",
    "    dimnames=ro.r.list(df.index.tolist(), df.columns.tolist()\n",
    "))\n",
    "cramer_coeff = vcd.assocstats(r_table).rx2('cramer')\n",
    "print('Коэффициент Крамера составляет:')\n",
    "round(float(cramer_coeff[0]), 4)"
   ]
  },
  {
   "cell_type": "markdown",
   "metadata": {},
   "source": [
    "Следовательно, можно заметить, что `связь между признаками (возрастом и временем) слабая`. Данный коэффициент показывает только силу связи, а не ее направление."
   ]
  },
  {
   "cell_type": "markdown",
   "metadata": {},
   "source": [
    "Теперь посчитаем `интервальную оценку коэффициента Крамера на основе нецентрального Хи-квадрат с коррекцией смещения`:"
   ]
  },
  {
   "cell_type": "code",
   "execution_count": 96,
   "metadata": {},
   "outputs": [
    {
     "name": "stdout",
     "output_type": "stream",
     "text": [
      "92%-ый доверительный интервал для коэффициента Крамера: (0.1296, 0.2388)\n"
     ]
    }
   ],
   "source": [
    "from rpy2.robjects.packages import importr\n",
    "from rpy2.robjects import pandas2ri\n",
    "pandas2ri.activate()\n",
    "\n",
    "\n",
    "MBESS = importr('MBESS')\n",
    "\n",
    "K_kramer = DescTools.CramerV(r_table, conf_level = 0.92, method = \"ncchisqadj\")\n",
    "lower_k = K_kramer[1]\n",
    "upper_k = K_kramer[2]\n",
    "print(f'92%-ый доверительный интервал для коэффициента Крамера: ({lower_k:.4f}, {upper_k:.4f})')"
   ]
  },
  {
   "cell_type": "markdown",
   "metadata": {},
   "source": [
    "Получается, так как ноль не входит в доверительный интервал, то можно сделать вывод, что `коэффициент Крамера значимо отличается от нуля`."
   ]
  },
  {
   "cell_type": "markdown",
   "metadata": {},
   "source": [
    "Посчитаем точечные и интервальные оценки `коэффициента лямбда(b)` и `тау(а)` на уровне значимости 97%:"
   ]
  },
  {
   "cell_type": "code",
   "execution_count": 81,
   "metadata": {},
   "outputs": [
    {
     "name": "stdout",
     "output_type": "stream",
     "text": [
      "Лямбда(b): 0.05051\n",
      "97%-ый доверительный интервал для коэффициента лямбда(b): (0.000000, 0.138572)\n"
     ]
    }
   ],
   "source": [
    "DescTools = importr('DescTools')\n",
    "lambda_b = DescTools.Lambda(r_table, direction=\"column\", conf_level=0.97)\n",
    "print(f\"Лямбда(b): {lambda_b[0]:.5f}\")\n",
    "print(f'97%-ый доверительный интервал для коэффициента лямбда(b): ({lambda_b[1]:.6f}, {lambda_b[2]:.6f})')"
   ]
  },
  {
   "cell_type": "markdown",
   "metadata": {},
   "source": [
    "Следовательно, `вероятность предсказания возраста может быть снижена на 0.05` при известном временном промежутке по сравнению с ситуацией, когда эта информация отсутствует. По доверительному интервалу можно понять, что коэффициент незначимо отличается от нуля."
   ]
  },
  {
   "cell_type": "code",
   "execution_count": 45,
   "metadata": {},
   "outputs": [
    {
     "name": "stdout",
     "output_type": "stream",
     "text": [
      "Тау(а): 0.037\n",
      "97%-ый доверительный интервал для коэффициента тау(а): (0.007, 0.067)\n"
     ]
    }
   ],
   "source": [
    "tau_a = DescTools.GoodmanKruskalTau(r_table, direction = \"row\", conf_level = 0.97)\n",
    "print(f\"Тау(а): {tau_a[0]:.3f}\")\n",
    "print(f'97%-ый доверительный интервал для коэффициента тау(а): ({tau_a[1]:.3f}, {tau_a[2]:.3f})')"
   ]
  },
  {
   "cell_type": "markdown",
   "metadata": {},
   "source": [
    "Таким образом, `вероятность предсказания времени безработицы может быть снижена на 0.037` при известной возрастной группе по сравнению с ситуацией, когда эта информация отсутствует в случае пропорционального прогнозирования. В доверительном интервале этого коэффициента нет нуля, поэтому данный коэффициент значимо отличается от нуля."
   ]
  },
  {
   "cell_type": "markdown",
   "metadata": {},
   "source": [
    "#### **Пункт г):**\n",
    "Получим `мозаичный график` таблицы сопряженности, в котором в качестве основного признака рассматривается **возрастная группа**:"
   ]
  },
  {
   "cell_type": "code",
   "execution_count": 75,
   "metadata": {},
   "outputs": [
    {
     "name": "stderr",
     "output_type": "stream",
     "text": [
      "/opt/homebrew/lib/python3.13/site-packages/statsmodels/graphics/mosaicplot.py:651: UserWarning: Setting the 'color' property will override the edgecolor or facecolor properties.\n",
      "  Rect = Rectangle((x, y), w, h, label=text, **props)\n"
     ]
    },
    {
     "data": {
      "image/png": "[encoded data removed]",
      "text/plain": [
       "<Figure size 1000x800 with 4 Axes>"
      ]
     },
     "metadata": {},
     "output_type": "display_data"
    }
   ],
   "source": [
    "plt.figure(figsize=(10, 8))\n",
    "\n",
    "ax = plt.gca()\n",
    "\n",
    "mosaic.mosaic(\n",
    "    df.stack(),\n",
    "    title='Мозаичный график (основной признак: возраст)',\n",
    "    properties=lambda key: {'color': get_color(key), 'edgecolor': 'black', 'linewidth': 2, 'linestyle': '-'},\n",
    "    gap=0.02,\n",
    "    axes_label=True,\n",
    "    ax=ax\n",
    ")\n",
    "\n",
    "fig = plt.gcf()\n",
    "cax = fig.add_axes([0.92, 0.15, 0.02, 0.7])\n",
    "\n",
    "\n",
    "sm = plt.cm.ScalarMappable(cmap=cmap, norm=plt.Normalize(vmin=-3, vmax=3))\n",
    "sm.set_array([])\n",
    "cbar = plt.colorbar(sm, cax=cax)\n",
    "cbar.set_label('Отклонение', labelpad=15)\n",
    "\n",
    "plt.subplots_adjust(\n",
    "    right=0.85,\n",
    "    top=0.9      \n",
    ")\n",
    "plt.xlabel('Время')\n",
    "plt.ylabel('Возраст')\n",
    "plt.suptitle('Таблица сопряженности', y=0.95)\n",
    "plt.xticks(rotation=45, ha='right')\n",
    "\n",
    "plt.show()"
   ]
  }
 ],
 "metadata": {
  "kernelspec": {
   "display_name": "Python 3",
   "language": "python",
   "name": "python3"
  },
  "language_info": {
   "codemirror_mode": {
    "name": "ipython",
    "version": 3
   },
   "file_extension": ".py",
   "mimetype": "text/x-python",
   "name": "python",
   "nbconvert_exporter": "python",
   "pygments_lexer": "ipython3",
   "version": "3.13.1"
  }
 },
 "nbformat": 4,
 "nbformat_minor": 2
}
